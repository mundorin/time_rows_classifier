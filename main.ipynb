{
 "cells": [
  {
   "cell_type": "code",
   "execution_count": 2,
   "id": "987fc5aa-b290-4e4d-a8a8-b47f10c9aad4",
   "metadata": {},
   "outputs": [],
   "source": [
    "import pickle\n",
    "import pandas as pd\n",
    "import numpy as np\n",
    "from sklearn.ensemble import RandomForestClassifier"
   ]
  },
  {
   "cell_type": "code",
   "execution_count": 3,
   "id": "105b1bb5-e7d1-4ba8-a4c4-39ab0293b07a",
   "metadata": {},
   "outputs": [],
   "source": [
    "def sum_off_quarters(arr):\n",
    "    #возвращяет массив из 3 элементов 1 сумма элементов в 1 четверти 2 сума 2 и 3 четверти 3 сумма 4 четверти\n",
    "    if len(arr) < 4:\n",
    "        return [0,sum(arr),0]\n",
    "    \n",
    "    quarter_len = len(arr) // 4\n",
    "    first_quarter = sum(arr[:quarter_len])\n",
    "    last_quarter = sum(arr[-quarter_len:])                     \n",
    "    mid = sum(arr) - first_quarter - last_quarter\n",
    "    \n",
    "    return [first_quarter,mid,last_quarter]\n",
    "\n",
    "\n",
    "def generated_features(data):\n",
    "    #функция для генерации всех новых признаков\n",
    "    \n",
    "    mask = data['values'].apply(lambda x: not any(np.isnan(i) for i in x))\n",
    "    data_filtred = data[mask]\n",
    "    dif = data['values'].size - data_filtred['values'].size\n",
    "    data_nan = data[~mask]\n",
    "    data_filtred = data_filtred.reset_index(drop=True)\n",
    "\n",
    "    data_processed = pd.DataFrame({'id': data_filtred.id.values,\n",
    "                                'mean': np.empty(data_filtred['dates'].size),\n",
    "                               'variance': np.empty(data_filtred['dates'].size),})\n",
    "\n",
    "    for i in range(data_filtred['dates'].size):\n",
    "        data_processed.loc[i,'variance'] = data_filtred['values'][i].var()\n",
    "        data_processed.loc[i,'mean'] = data_filtred['values'][i].mean()\n",
    "    \n",
    "    for i in range(3):  # Для первых трех коэффициентов\n",
    "        data_processed[f'angle_coeff_{i}'] = np.empty(data_filtred['dates'].size)\n",
    "        data_processed[f'abs_coeff_{i}'] = np.empty(data_filtred['dates'].size)\n",
    "        if i != 0:\n",
    "            data_processed[f'real_coeff_{i}'] = np.empty(data_filtred['dates'].size)\n",
    "        \n",
    "    for i, row in data_filtred.iterrows():\n",
    "        # Применение дискретного преобразования Фурье к значениями временного ряда\n",
    "        fft_coefficients = np.fft.fft(row['values'])\n",
    "        for j in range(3):  # Для первых трех коэффициентов      \n",
    "            data_processed.loc[i,f'angle_coeff_{j}'] = np.angle(fft_coefficients[j])\n",
    "            data_processed.loc[i,f'abs_coeff_{j}'] = np.abs(fft_coefficients[j])\n",
    "            if j != 0:\n",
    "                data_processed.loc[i,f'real_coeff_{j}'] = np.real(fft_coefficients[j])\n",
    "                \n",
    "    quantiels = [0.1,0.3,0.5,0.7,0.9]\n",
    "    for i in quantiels:\n",
    "        data_processed[f'quantile_{i}'] = np.empty(data_filtred['dates'].size)\n",
    "\n",
    "    for i in range(data_filtred['dates'].size):\n",
    "        for j in quantiels:\n",
    "            data_processed.loc[i,f'quantile_{j}'] = np.quantile(np.array(data_filtred.loc[i,'values']), j)\n",
    "    \n",
    "    quater_features = ['first_quarter','two_mid_quarter','last_quarter']\n",
    "    for i in quater_features:\n",
    "        data_processed[i] = np.empty(data_filtred['dates'].size)\n",
    "        \n",
    "    for i in range(data_filtred['dates'].size):\n",
    "        quarters = sum_off_quarters(data_filtred['values'][i])\n",
    "        data_processed.loc[i,'first_quarter'] = quarters[0]\n",
    "        data_processed.loc[i,'two_mid_quarter'] = quarters[1]\n",
    "        data_processed.loc[i,'last_quarter'] =  quarters[2]\n",
    "\n",
    "    return data_processed, data_nan"
   ]
  },
  {
   "cell_type": "code",
   "execution_count": 4,
   "id": "8e096fe0-e487-4602-801e-e56cbd6b3334",
   "metadata": {},
   "outputs": [],
   "source": [
    "def create_submission(data, model):\n",
    "    #возвращяет DataFrame вероятностей принадлежности к классу 1\n",
    "    data_feature, data_nan = generated_features(data)\n",
    "    \n",
    "    fiture_columns = data_feature.columns[data_feature.columns != 'id']\n",
    "    \n",
    "    data_predict_id = data_feature.id.values\n",
    "    data_predict_value = model.predict_proba(data_feature[fiture_columns])[:,1]\n",
    "\n",
    "    data_nan_id = data_nan.id.values\n",
    "    \n",
    "    submission_predict = pd.DataFrame({'id': data_predict_id, 'score': data_predict_value})\n",
    "    submission_nan = pd.DataFrame({'id': data_nan_id, 'score': 0.6})\n",
    "    \n",
    "    submission_combined = pd.concat([submission_predict, submission_nan], ignore_index=True)\n",
    "    return submission_combined"
   ]
  },
  {
   "cell_type": "code",
   "execution_count": 5,
   "id": "e1db3886-e0fd-4fcf-a423-f20c2ca40cf4",
   "metadata": {},
   "outputs": [],
   "source": [
    "with open(\"model_RF.pickle\", \"rb\") as file:\n",
    "    model = pickle.load(file)\n",
    "#предпологаеться что данные в формате parquet если в csv просто разкоментировать 2 строку и убрать 1\n",
    "data = pd.read_parquet('test.parquet')\n",
    "#data = pd.read_csv('test.csv')"
   ]
  },
  {
   "cell_type": "code",
   "execution_count": 6,
   "id": "fa75eab0-115f-48ab-9ec8-0aa10c9e2f1a",
   "metadata": {},
   "outputs": [],
   "source": [
    "submission = create_submission(data, model)"
   ]
  },
  {
   "cell_type": "code",
   "execution_count": 11,
   "id": "28b616b1-9785-4140-ae77-bf9f56b229ea",
   "metadata": {},
   "outputs": [],
   "source": [
    "#отсортируем результаты в соответсвие с тем в каком порядке пришли данные тк до сортировки все данные с nan записываються в конец\n",
    "submission_sorted = submission.set_index('id').reindex(data['id']).reset_index()\n"
   ]
  },
  {
   "cell_type": "code",
   "execution_count": 12,
   "id": "922e4c64-83c0-41a0-b588-78192372f0c1",
   "metadata": {},
   "outputs": [],
   "source": [
    "submission_sorted.to_csv(r'submission.csv', index=False)"
   ]
  }
 ],
 "metadata": {
  "kernelspec": {
   "display_name": "Python 3 (ipykernel)",
   "language": "python",
   "name": "python3"
  },
  "language_info": {
   "codemirror_mode": {
    "name": "ipython",
    "version": 3
   },
   "file_extension": ".py",
   "mimetype": "text/x-python",
   "name": "python",
   "nbconvert_exporter": "python",
   "pygments_lexer": "ipython3",
   "version": "3.11.10"
  }
 },
 "nbformat": 4,
 "nbformat_minor": 5
}
